{
 "cells": [
  {
   "cell_type": "code",
   "execution_count": null,
   "metadata": {},
   "outputs": [],
   "source": [
    "# Install all required packages from requirements.txt\n",
    "import subprocess\n",
    "import sys\n",
    "\n",
    "subprocess.check_call([sys.executable, '-m', 'pip', 'install', '-r', 'requirements.txt'])\n",
    "\n",
    "print('✅ All packages installed from requirements.txt!')"
   ]
  },
  {
   "cell_type": "markdown",
   "metadata": {},
   "source": [
    "# 📊 BigQuery Weather Data Analysis Example\n",
    "\n",
    "This example notebook demonstrates querying and analyzing the Global Summary of the Day (GSOD) dataset from BigQuery using Coder's external authentication."
   ]
  },
  {
   "cell_type": "code",
   "execution_count": null,
   "metadata": {},
   "outputs": [],
   "source": [
    "import os\n",
    "import subprocess\n",
    "import pandas as pd\n",
    "import matplotlib.pyplot as plt\n",
    "import seaborn as sns\n",
    "from google.cloud import bigquery\n",
    "from google.oauth2 import credentials\n",
    "import warnings\n",
    "warnings.filterwarnings('ignore')\n",
    "\n",
    "# Set up plotting\n",
    "plt.style.use('default')\n",
    "sns.set_palette('husl')\n",
    "plt.rcParams['figure.figsize'] = (12, 8)\n",
    "\n",
    "print('✅ Packages imported successfully!')"
   ]
  },
  {
   "cell_type": "code",
   "execution_count": null,
   "metadata": {},
   "outputs": [],
   "source": [
    "def get_access_token():\n",
    "    \"\"\"Get GCP access token using Coder external auth\"\"\"\n",
    "    try:\n",
    "        result = subprocess.run(\n",
    "            ['coder', 'external-auth', 'access-token', 'gcp'],\n",
    "            capture_output=True,\n",
    "            text=True,\n",
    "            check=True\n",
    "        )\n",
    "        return result.stdout.strip()\n",
    "    except subprocess.CalledProcessError as e:\n",
    "        print(f'Error: {e}')\n",
    "        return None\n",
    "\n",
    "# Authenticate with BigQuery\n",
    "access_token = get_access_token()\n",
    "if access_token:\n",
    "    print('✅ Access token obtained')\n",
    "    creds = credentials.Credentials(token=access_token)\n",
    "    client = bigquery.Client(credentials=creds, project='coder-vertex-demos')\n",
    "    print('✅ BigQuery client ready')\n",
    "else:\n",
    "    print('❌ Failed to get access token')\n",
    "    print('💡 Make sure external auth is configured: coder external-auth access-token gcp')"
   ]
  },
  {
   "cell_type": "code",
   "execution_count": null,
   "metadata": {},
   "outputs": [],
   "source": [
    "# Query the GSOD public dataset\n",
    "query = '''\n",
    "SELECT * \n",
    "FROM `bigquery-public-data.samples.gsod` \n",
    "LIMIT 500\n",
    "'''\n",
    "\n",
    "print('🔍 Executing BigQuery query...')\n",
    "df = client.query(query).to_dataframe()\n",
    "print(f'✅ Retrieved {len(df)} rows')\n",
    "print(f'📋 Columns: {list(df.columns)}')\n",
    "\n",
    "df.head()"
   ]
  },
  {
   "cell_type": "code",
   "execution_count": null,
   "metadata": {},
   "outputs": [],
   "source": [
    "# Dataset information\n",
    "print('📈 Dataset info:')\n",
    "df.info()"
   ]
  },
  {
   "cell_type": "code",
   "execution_count": null,
   "metadata": {},
   "outputs": [],
   "source": [
    "# Statistical summary\n",
    "print('🔢 Statistical summary:')\n",
    "df.describe()"
   ]
  },
  {
   "cell_type": "code",
   "execution_count": null,
   "metadata": {},
   "outputs": [],
   "source": [
    "# Create weather data visualizations\n",
    "fig, axes = plt.subplots(2, 2, figsize=(15, 10))\n",
    "fig.suptitle('Weather Data Analysis - GSOD Dataset', fontsize=16)\n",
    "\n",
    "# Temperature\n",
    "if 'mean_temp' in df.columns:\n",
    "    temp_clean = df[df['mean_temp'].notna()]['mean_temp']\n",
    "    axes[0,0].hist(temp_clean, bins=30, alpha=0.7, color='skyblue', edgecolor='black')\n",
    "    axes[0,0].set_title('Mean Temperature Distribution')\n",
    "    axes[0,0].set_xlabel('Temperature (°F)')\n",
    "    axes[0,0].set_ylabel('Frequency')\n",
    "\n",
    "# Precipitation\n",
    "if 'total_precipitation' in df.columns:\n",
    "    prcp_clean = df[df['total_precipitation'].notna()]['total_precipitation']\n",
    "    axes[0,1].hist(prcp_clean, bins=30, alpha=0.7, color='lightgreen', edgecolor='black')\n",
    "    axes[0,1].set_title('Total Precipitation Distribution')\n",
    "    axes[0,1].set_xlabel('Precipitation (inches)')\n",
    "    axes[0,1].set_ylabel('Frequency')\n",
    "\n",
    "# Wind Speed\n",
    "if 'mean_wind_speed' in df.columns:\n",
    "    wind_clean = df[df['mean_wind_speed'].notna()]['mean_wind_speed']\n",
    "    axes[1,0].hist(wind_clean, bins=30, alpha=0.7, color='coral', edgecolor='black')\n",
    "    axes[1,0].set_title('Mean Wind Speed Distribution')\n",
    "    axes[1,0].set_xlabel('Wind Speed (knots)')\n",
    "    axes[1,0].set_ylabel('Frequency')\n",
    "\n",
    "# Visibility\n",
    "if 'mean_visibility' in df.columns:\n",
    "    vis_clean = df[df['mean_visibility'].notna()]['mean_visibility']\n",
    "    axes[1,1].hist(vis_clean, bins=30, alpha=0.7, color='gold', edgecolor='black')\n",
    "    axes[1,1].set_title('Mean Visibility Distribution')\n",
    "    axes[1,1].set_xlabel('Visibility (miles)')\n",
    "    axes[1,1].set_ylabel('Frequency')\n",
    "\n",
    "plt.tight_layout()\n",
    "plt.show()"
   ]
  },
  {
   "cell_type": "code",
   "execution_count": null,
   "metadata": {},
   "outputs": [],
   "source": [
    "# Weather stations analysis\n",
    "if 'station_number' in df.columns:\n",
    "    top_stations = df['station_number'].value_counts().head(10)\n",
    "    \n",
    "    plt.figure(figsize=(12, 6))\n",
    "    top_stations.plot(kind='bar', color='steelblue', alpha=0.8)\n",
    "    plt.title('Top 10 Weather Stations by Number of Records')\n",
    "    plt.xlabel('Station ID')\n",
    "    plt.ylabel('Number of Records')\n",
    "    plt.xticks(rotation=45, ha='right')\n",
    "    plt.grid(axis='y', alpha=0.3)\n",
    "    plt.tight_layout()\n",
    "    plt.show()\n",
    "    \n",
    "    print(f'📡 Total unique stations: {df[\"station_number\"].nunique()}')\n",
    "    print('🏆 Top 10 stations:')\n",
    "    for i, (station, count) in enumerate(top_stations.items(), 1):\n",
    "        print(f'{i:2d}. Station {station}: {count} records')\n",
    "\n",
    "print('\\n✅ Weather data analysis complete!')\n",
    "print('\\n💡 This is an example notebook. Modify queries and analysis as needed!')"
   ]
  }
 ],
 "metadata": {
  "kernelspec": {
   "display_name": "Python 3",
   "language": "python",
   "name": "python3"
  },
  "language_info": {
   "codemirror_mode": {
    "name": "ipython",
    "version": 3
   },
   "file_extension": ".py",
   "mimetype": "text/x-python",
   "name": "python",
   "nbconvert_exporter": "python",
   "version": "3.12.0"
  }
 },
 "nbformat": 4,
 "nbformat_minor": 4
}